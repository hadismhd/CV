{
 "cells": [
  {
   "cell_type": "code",
   "execution_count": 1,
   "id": "207ded77",
   "metadata": {},
   "outputs": [],
   "source": [
    "# Setup matplotlib to plot inline (within the notebook)\n",
    "%matplotlib inline\n",
    "\n",
    "# Import the pyplot module of Matplotlib as plt\n",
    "import matplotlib.pyplot as plt\n",
    "\n",
    "# Import pandas under the abbreviation 'pd'\n",
    "import pandas as pd\n",
    "\n",
    "# Import NumPy under the abbreviation 'np'\n",
    "import numpy as np"
   ]
  },
  {
   "cell_type": "code",
   "execution_count": 4,
   "id": "a3d219c2",
   "metadata": {},
   "outputs": [
    {
     "data": {
      "text/html": [
       "<div>\n",
       "<style scoped>\n",
       "    .dataframe tbody tr th:only-of-type {\n",
       "        vertical-align: middle;\n",
       "    }\n",
       "\n",
       "    .dataframe tbody tr th {\n",
       "        vertical-align: top;\n",
       "    }\n",
       "\n",
       "    .dataframe thead th {\n",
       "        text-align: right;\n",
       "    }\n",
       "</style>\n",
       "<table border=\"1\" class=\"dataframe\">\n",
       "  <thead>\n",
       "    <tr style=\"text-align: right;\">\n",
       "      <th></th>\n",
       "      <th>animal</th>\n",
       "      <th>weight</th>\n",
       "      <th>movement_type</th>\n",
       "      <th>highspeed</th>\n",
       "    </tr>\n",
       "  </thead>\n",
       "  <tbody>\n",
       "    <tr>\n",
       "      <th>0</th>\n",
       "      <td>House sparrow</td>\n",
       "      <td>0.04</td>\n",
       "      <td>flying</td>\n",
       "      <td>46.0</td>\n",
       "    </tr>\n",
       "    <tr>\n",
       "      <th>1</th>\n",
       "      <td>Pelican</td>\n",
       "      <td>7.80</td>\n",
       "      <td>flying</td>\n",
       "      <td>65.0</td>\n",
       "    </tr>\n",
       "    <tr>\n",
       "      <th>2</th>\n",
       "      <td>Vulture</td>\n",
       "      <td>11.00</td>\n",
       "      <td>flying</td>\n",
       "      <td>88.0</td>\n",
       "    </tr>\n",
       "    <tr>\n",
       "      <th>3</th>\n",
       "      <td>Pigeon</td>\n",
       "      <td>0.35</td>\n",
       "      <td>flying</td>\n",
       "      <td>80.0</td>\n",
       "    </tr>\n",
       "    <tr>\n",
       "      <th>4</th>\n",
       "      <td>Puffin</td>\n",
       "      <td>0.58</td>\n",
       "      <td>flying</td>\n",
       "      <td>88.0</td>\n",
       "    </tr>\n",
       "  </tbody>\n",
       "</table>\n",
       "</div>"
      ],
      "text/plain": [
       "          animal  weight movement_type  highspeed\n",
       "0  House sparrow    0.04        flying       46.0\n",
       "1        Pelican    7.80        flying       65.0\n",
       "2        Vulture   11.00        flying       88.0\n",
       "3         Pigeon    0.35        flying       80.0\n",
       "4         Puffin    0.58        flying       88.0"
      ]
     },
     "execution_count": 4,
     "metadata": {},
     "output_type": "execute_result"
    }
   ],
   "source": [
    "animalspeed_df = pd.read_csv('animal_speeds.csv', delimiter=';')\n",
    "animalspeed_df.head()"
   ]
  },
  {
   "cell_type": "code",
   "execution_count": 5,
   "id": "cf8d7006",
   "metadata": {},
   "outputs": [
    {
     "name": "stdout",
     "output_type": "stream",
     "text": [
      "<class 'pandas.core.frame.DataFrame'>\n",
      "RangeIndex: 159 entries, 0 to 158\n",
      "Data columns (total 4 columns):\n",
      " #   Column         Non-Null Count  Dtype  \n",
      "---  ------         --------------  -----  \n",
      " 0   animal         159 non-null    object \n",
      " 1   weight         159 non-null    float64\n",
      " 2   movement_type  159 non-null    object \n",
      " 3   highspeed      159 non-null    float64\n",
      "dtypes: float64(2), object(2)\n",
      "memory usage: 5.1+ KB\n"
     ]
    }
   ],
   "source": [
    "animalspeed_df.info()"
   ]
  },
  {
   "cell_type": "code",
   "execution_count": 6,
   "id": "58388d5c",
   "metadata": {},
   "outputs": [
    {
     "data": {
      "text/plain": [
       "animal            object\n",
       "weight           float64\n",
       "movement_type     object\n",
       "highspeed        float64\n",
       "dtype: object"
      ]
     },
     "execution_count": 6,
     "metadata": {},
     "output_type": "execute_result"
    }
   ],
   "source": [
    "animalspeed_df.dtypes"
   ]
  },
  {
   "cell_type": "code",
   "execution_count": 7,
   "id": "e5625c79",
   "metadata": {},
   "outputs": [],
   "source": [
    "from sklearn.pipeline import Pipeline\n",
    "\n",
    "from sklearn.compose import ColumnTransformer\n",
    "\n",
    "from sklearn.impute import SimpleImputer\n",
    "\n",
    "from sklearn.preprocessing import OneHotEncoder\n",
    "\n",
    "from sklearn.model_selection import train_test_split"
   ]
  },
  {
   "cell_type": "code",
   "execution_count": 8,
   "id": "dd440274",
   "metadata": {},
   "outputs": [],
   "source": [
    "categorical_features = [\"animal\", \"movement_type\"]\n",
    "\n",
    "categorical_transformer = Pipeline(steps=[\n",
    "    (\"imputer\", SimpleImputer(strategy=\"constant\", fill_value=\"missing\")),\n",
    "    (\"onehot\", OneHotEncoder(handle_unknown=\"ignore\"))])"
   ]
  },
  {
   "cell_type": "code",
   "execution_count": 11,
   "id": "dbb9f79e",
   "metadata": {},
   "outputs": [],
   "source": [
    "\n",
    "preprocessor = ColumnTransformer(\n",
    "    transformers=[\n",
    "        \n",
    "        (\"cat\", categorical_transformer, categorical_features)])"
   ]
  },
  {
   "cell_type": "code",
   "execution_count": 12,
   "id": "ffb96f63",
   "metadata": {},
   "outputs": [],
   "source": [
    "from sklearn.linear_model import Ridge\n",
    "\n",
    "from sklearn.svm import SVR\n",
    "\n",
    "from sklearn.ensemble import RandomForestRegressor"
   ]
  },
  {
   "cell_type": "code",
   "execution_count": 13,
   "id": "8e38e41b",
   "metadata": {},
   "outputs": [],
   "source": [
    "regression_models = {\"Ridge\": Ridge(),\n",
    "                     \"SVR_linear\": SVR(kernel=\"linear\"),\n",
    "                     \"SVR_rbf\": SVR(kernel=\"rbf\"),\n",
    "                     \"RandomForestRegressor\": RandomForestRegressor()}\n",
    "\n",
    "regression_results = {}"
   ]
  },
  {
   "cell_type": "code",
   "execution_count": 15,
   "id": "988d7246",
   "metadata": {},
   "outputs": [],
   "source": [
    "animalspeed_df_X = animalspeed_df.drop(\"highspeed\", axis=1)\n",
    "\n",
    "animalspeed_df_y = animalspeed_df[\"highspeed\"]"
   ]
  },
  {
   "cell_type": "code",
   "execution_count": 16,
   "id": "a8aa7439",
   "metadata": {},
   "outputs": [
    {
     "data": {
      "text/plain": [
       "((127, 3), (32, 3), (127,), (32,))"
      ]
     },
     "execution_count": 16,
     "metadata": {},
     "output_type": "execute_result"
    }
   ],
   "source": [
    "animalspeed_df_X_train, animalspeed_df_X_test, animalspeed_df_y_train, animalspeed_df_y_test = train_test_split(animalspeed_df_X,\n",
    "                                                                    animalspeed_df_y,\n",
    "                                                                    test_size=0.2,\n",
    "                                                                    random_state=0)\n",
    "\n",
    "animalspeed_df_X_train.shape, animalspeed_df_X_test.shape, animalspeed_df_y_train.shape, animalspeed_df_y_test.shape"
   ]
  },
  {
   "cell_type": "code",
   "execution_count": 17,
   "id": "ef2dacab",
   "metadata": {},
   "outputs": [
    {
     "name": "stdout",
     "output_type": "stream",
     "text": [
      "Fitting Ridge...\n",
      "Scoring Ridge...\n",
      "Fitting SVR_linear...\n",
      "Scoring SVR_linear...\n",
      "Fitting SVR_rbf...\n",
      "Scoring SVR_rbf...\n",
      "Fitting RandomForestRegressor...\n",
      "Scoring RandomForestRegressor...\n"
     ]
    }
   ],
   "source": [
    "for model_name, model in regression_models.items():\n",
    "    \n",
    "    model_pipeline = Pipeline(steps=[(\"preprocessor\", preprocessor),\n",
    "                                      (\"model\", model)])\n",
    "    \n",
    "    print(f\"Fitting {model_name}...\")\n",
    "    model_pipeline.fit(animalspeed_df_X_train, animalspeed_df_y_train)\n",
    "\n",
    "    print(f\"Scoring {model_name}...\")\n",
    "    regression_results[model_name] = model_pipeline.score(animalspeed_df_X_test, \n",
    "                                                          animalspeed_df_y_test)"
   ]
  },
  {
   "cell_type": "code",
   "execution_count": 18,
   "id": "86af5362",
   "metadata": {},
   "outputs": [
    {
     "data": {
      "text/plain": [
       "{'Ridge': 0.28593024105551335,\n",
       " 'SVR_linear': 0.22550740880110842,\n",
       " 'SVR_rbf': 0.12725559553935728,\n",
       " 'RandomForestRegressor': 0.3738118100248793}"
      ]
     },
     "execution_count": 18,
     "metadata": {},
     "output_type": "execute_result"
    }
   ],
   "source": [
    "regression_results\n"
   ]
  },
  {
   "cell_type": "code",
   "execution_count": 19,
   "id": "cdf494da",
   "metadata": {},
   "outputs": [],
   "source": [
    "from sklearn.metrics import mean_absolute_error\n",
    "\n",
    "from sklearn.metrics import mean_squared_error\n",
    "\n",
    "\n",
    "from sklearn.metrics import r2_score"
   ]
  },
  {
   "cell_type": "code",
   "execution_count": 20,
   "id": "c18d5cce",
   "metadata": {},
   "outputs": [
    {
     "data": {
      "text/plain": [
       "array([87.73987098, 50.86963072, 50.86963072, 50.86963072, 50.86963072,\n",
       "       38.43589201, 50.86963072, 38.43589201, 41.3213842 , 50.86963072,\n",
       "       38.43589201, 38.43589201, 50.86963072, 37.00276622, 50.86963072,\n",
       "       41.3213842 , 50.86963072, 38.43589201, 50.86963072, 87.73987098,\n",
       "       50.86963072, 50.86963072, 50.86963072, 38.43589201, 50.86963072,\n",
       "       87.73987098, 87.73987098, 50.86963072, 38.43589201, 38.43589201,\n",
       "       87.73987098, 50.86963072])"
      ]
     },
     "execution_count": 20,
     "metadata": {},
     "output_type": "execute_result"
    }
   ],
   "source": [
    "ridge_pipeline = Pipeline(steps=[(\"preprocessor\", preprocessor),\n",
    "                                 (\"animal\", Ridge())])\n",
    "\n",
    "ridge_pipeline.fit(animalspeed_df_X_train, animalspeed_df_y_train)\n",
    "\n",
    "animalspeed_df_y_preds = ridge_pipeline.predict(animalspeed_df_X_test)\n",
    "\n",
    "# View the first 50 predictions\n",
    "animalspeed_df_y_preds[:50]"
   ]
  },
  {
   "cell_type": "code",
   "execution_count": 21,
   "id": "3617640f",
   "metadata": {},
   "outputs": [
    {
     "data": {
      "text/plain": [
       "849.20121271434"
      ]
     },
     "execution_count": 21,
     "metadata": {},
     "output_type": "execute_result"
    }
   ],
   "source": [
    "mse = mean_squared_error(animalspeed_df_y_test, animalspeed_df_y_preds)\n",
    "# Return the MSE\n",
    "mse"
   ]
  },
  {
   "cell_type": "code",
   "execution_count": 22,
   "id": "bb970c78",
   "metadata": {},
   "outputs": [
    {
     "data": {
      "text/plain": [
       "22.51028042665635"
      ]
     },
     "execution_count": 22,
     "metadata": {},
     "output_type": "execute_result"
    }
   ],
   "source": [
    "mae =  mean_absolute_error(animalspeed_df_y_test, animalspeed_df_y_preds)\n",
    "# Return the MAE\n",
    "mae"
   ]
  },
  {
   "cell_type": "code",
   "execution_count": 23,
   "id": "e49f5d23",
   "metadata": {},
   "outputs": [
    {
     "data": {
      "text/plain": [
       "0.28593024105551335"
      ]
     },
     "execution_count": 23,
     "metadata": {},
     "output_type": "execute_result"
    }
   ],
   "source": [
    "r2 = r2_score(animalspeed_df_y_test, animalspeed_df_y_preds)\n",
    "# Return the R^2 score\n",
    "r2"
   ]
  },
  {
   "cell_type": "code",
   "execution_count": null,
   "id": "02b53963",
   "metadata": {},
   "outputs": [],
   "source": []
  }
 ],
 "metadata": {
  "kernelspec": {
   "display_name": "Python 3 (ipykernel)",
   "language": "python",
   "name": "python3"
  },
  "language_info": {
   "codemirror_mode": {
    "name": "ipython",
    "version": 3
   },
   "file_extension": ".py",
   "mimetype": "text/x-python",
   "name": "python",
   "nbconvert_exporter": "python",
   "pygments_lexer": "ipython3",
   "version": "3.9.12"
  }
 },
 "nbformat": 4,
 "nbformat_minor": 5
}
